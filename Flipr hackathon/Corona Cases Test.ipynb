{
 "cells": [
  {
   "cell_type": "code",
   "execution_count": 1,
   "metadata": {},
   "outputs": [],
   "source": [
    "import numpy as np\n",
    "import pandas as pd\n",
    "import matplotlib.pyplot as plt\n",
    "import seaborn as sns\n"
   ]
  },
  {
   "cell_type": "code",
   "execution_count": 2,
   "metadata": {},
   "outputs": [],
   "source": [
    "df=pd.read_excel('Test_dataset.xlsx')"
   ]
  },
  {
   "cell_type": "code",
   "execution_count": 3,
   "metadata": {},
   "outputs": [
    {
     "data": {
      "text/plain": [
       "6"
      ]
     },
     "execution_count": 3,
     "metadata": {},
     "output_type": "execute_result"
    }
   ],
   "source": [
    "df[\"Population [2011]\"].isnull().sum()"
   ]
  },
  {
   "cell_type": "code",
   "execution_count": 4,
   "metadata": {},
   "outputs": [],
   "source": [
    "del df[\"Popuation [2001]\"]"
   ]
  },
  {
   "cell_type": "code",
   "execution_count": 5,
   "metadata": {},
   "outputs": [
    {
     "data": {
      "text/html": [
       "<div>\n",
       "<style scoped>\n",
       "    .dataframe tbody tr th:only-of-type {\n",
       "        vertical-align: middle;\n",
       "    }\n",
       "\n",
       "    .dataframe tbody tr th {\n",
       "        vertical-align: top;\n",
       "    }\n",
       "\n",
       "    .dataframe thead th {\n",
       "        text-align: right;\n",
       "    }\n",
       "</style>\n",
       "<table border=\"1\" class=\"dataframe\">\n",
       "  <thead>\n",
       "    <tr style=\"text-align: right;\">\n",
       "      <th></th>\n",
       "      <th>City</th>\n",
       "      <th>State</th>\n",
       "      <th>Type</th>\n",
       "      <th>Population [2011]</th>\n",
       "      <th>Sex Ratio</th>\n",
       "      <th>Median Age</th>\n",
       "      <th>Avg Temp</th>\n",
       "      <th>SWM</th>\n",
       "      <th>Toilets Avl</th>\n",
       "      <th>Water Purity</th>\n",
       "      <th>H Index</th>\n",
       "      <th>Female Population</th>\n",
       "      <th># of hospitals</th>\n",
       "      <th>Foreign Visitors</th>\n",
       "    </tr>\n",
       "  </thead>\n",
       "  <tbody>\n",
       "    <tr>\n",
       "      <th>169</th>\n",
       "      <td>Lal Gopalganj Nindaura</td>\n",
       "      <td>Uttar Pradesh</td>\n",
       "      <td>N.P</td>\n",
       "      <td>NaN</td>\n",
       "      <td>NaN</td>\n",
       "      <td>NaN</td>\n",
       "      <td>NaN</td>\n",
       "      <td>NaN</td>\n",
       "      <td>58.0</td>\n",
       "      <td>116.0</td>\n",
       "      <td>0.072044</td>\n",
       "      <td>24752.0</td>\n",
       "      <td>22.0</td>\n",
       "      <td>3104060.0</td>\n",
       "    </tr>\n",
       "    <tr>\n",
       "      <th>189</th>\n",
       "      <td>Sindhagi</td>\n",
       "      <td>Karnataka</td>\n",
       "      <td>T.M.C</td>\n",
       "      <td>NaN</td>\n",
       "      <td>NaN</td>\n",
       "      <td>NaN</td>\n",
       "      <td>NaN</td>\n",
       "      <td>MEDIUM</td>\n",
       "      <td>94.0</td>\n",
       "      <td>139.0</td>\n",
       "      <td>0.398114</td>\n",
       "      <td>25846.0</td>\n",
       "      <td>10.0</td>\n",
       "      <td>636502.0</td>\n",
       "    </tr>\n",
       "    <tr>\n",
       "      <th>190</th>\n",
       "      <td>Sanduru</td>\n",
       "      <td>Karnataka</td>\n",
       "      <td>T.P</td>\n",
       "      <td>NaN</td>\n",
       "      <td>NaN</td>\n",
       "      <td>NaN</td>\n",
       "      <td>NaN</td>\n",
       "      <td>HIGH</td>\n",
       "      <td>60.0</td>\n",
       "      <td>105.0</td>\n",
       "      <td>0.042093</td>\n",
       "      <td>26095.0</td>\n",
       "      <td>20.0</td>\n",
       "      <td>636502.0</td>\n",
       "    </tr>\n",
       "    <tr>\n",
       "      <th>191</th>\n",
       "      <td>Sohna</td>\n",
       "      <td>Haryana</td>\n",
       "      <td>M.C</td>\n",
       "      <td>NaN</td>\n",
       "      <td>NaN</td>\n",
       "      <td>NaN</td>\n",
       "      <td>NaN</td>\n",
       "      <td>HIGH</td>\n",
       "      <td>95.0</td>\n",
       "      <td>188.0</td>\n",
       "      <td>0.380379</td>\n",
       "      <td>23021.0</td>\n",
       "      <td>15.0</td>\n",
       "      <td>303118.0</td>\n",
       "    </tr>\n",
       "    <tr>\n",
       "      <th>192</th>\n",
       "      <td>Manavadar</td>\n",
       "      <td>Gujarat</td>\n",
       "      <td>M</td>\n",
       "      <td>NaN</td>\n",
       "      <td>NaN</td>\n",
       "      <td>NaN</td>\n",
       "      <td>NaN</td>\n",
       "      <td>HIGH</td>\n",
       "      <td>69.0</td>\n",
       "      <td>122.0</td>\n",
       "      <td>0.489085</td>\n",
       "      <td>23236.0</td>\n",
       "      <td>21.0</td>\n",
       "      <td>284973.0</td>\n",
       "    </tr>\n",
       "    <tr>\n",
       "      <th>500</th>\n",
       "      <td>Kumarganj</td>\n",
       "      <td>Uttar Pradesh</td>\n",
       "      <td>C.T</td>\n",
       "      <td>NaN</td>\n",
       "      <td>863.0</td>\n",
       "      <td>24.0</td>\n",
       "      <td>35.0</td>\n",
       "      <td>HIGH</td>\n",
       "      <td>19.0</td>\n",
       "      <td>149.0</td>\n",
       "      <td>0.154375</td>\n",
       "      <td>0.0</td>\n",
       "      <td>6.0</td>\n",
       "      <td>3104060.0</td>\n",
       "    </tr>\n",
       "  </tbody>\n",
       "</table>\n",
       "</div>"
      ],
      "text/plain": [
       "                       City          State   Type  Population [2011]  \\\n",
       "169  Lal Gopalganj Nindaura  Uttar Pradesh    N.P                NaN   \n",
       "189                Sindhagi      Karnataka  T.M.C                NaN   \n",
       "190                 Sanduru      Karnataka    T.P                NaN   \n",
       "191                   Sohna        Haryana    M.C                NaN   \n",
       "192               Manavadar        Gujarat      M                NaN   \n",
       "500               Kumarganj  Uttar Pradesh    C.T                NaN   \n",
       "\n",
       "     Sex Ratio  Median Age  Avg Temp     SWM  Toilets Avl  Water Purity  \\\n",
       "169        NaN         NaN       NaN     NaN         58.0         116.0   \n",
       "189        NaN         NaN       NaN  MEDIUM         94.0         139.0   \n",
       "190        NaN         NaN       NaN    HIGH         60.0         105.0   \n",
       "191        NaN         NaN       NaN    HIGH         95.0         188.0   \n",
       "192        NaN         NaN       NaN    HIGH         69.0         122.0   \n",
       "500      863.0        24.0      35.0    HIGH         19.0         149.0   \n",
       "\n",
       "      H Index  Female Population  # of hospitals  Foreign Visitors  \n",
       "169  0.072044            24752.0            22.0         3104060.0  \n",
       "189  0.398114            25846.0            10.0          636502.0  \n",
       "190  0.042093            26095.0            20.0          636502.0  \n",
       "191  0.380379            23021.0            15.0          303118.0  \n",
       "192  0.489085            23236.0            21.0          284973.0  \n",
       "500  0.154375                0.0             6.0         3104060.0  "
      ]
     },
     "execution_count": 5,
     "metadata": {},
     "output_type": "execute_result"
    }
   ],
   "source": [
    "df[df[\"Population [2011]\"].isnull()]"
   ]
  },
  {
   "cell_type": "code",
   "execution_count": 6,
   "metadata": {},
   "outputs": [],
   "source": [
    "df.iat[169,3]=28288\n",
    "df.iat[169,4]=942"
   ]
  },
  {
   "cell_type": "code",
   "execution_count": 7,
   "metadata": {},
   "outputs": [],
   "source": [
    "df.iat[189,3]=37213\n",
    "df.iat[189,4]=952\n"
   ]
  },
  {
   "cell_type": "code",
   "execution_count": 8,
   "metadata": {},
   "outputs": [],
   "source": [
    "df.iat[190,3]=27614\n",
    "df.iat[190,4]=973\n"
   ]
  },
  {
   "cell_type": "code",
   "execution_count": 9,
   "metadata": {},
   "outputs": [],
   "source": [
    "df.iat[191,3]=53962\n",
    "df.iat[191,4]=790"
   ]
  },
  {
   "cell_type": "code",
   "execution_count": 10,
   "metadata": {},
   "outputs": [],
   "source": [
    "df.iat[192,3]=30850\n",
    "df.iat[192,4]=938"
   ]
  },
  {
   "cell_type": "code",
   "execution_count": 11,
   "metadata": {},
   "outputs": [],
   "source": [
    "df.iat[500,3]=169102\n"
   ]
  },
  {
   "cell_type": "code",
   "execution_count": 14,
   "metadata": {},
   "outputs": [
    {
     "data": {
      "text/plain": [
       "array(['T.C', 'T.M.C', 'M.Cl.', 'M.Cl', 'N.P.', 'UA', 'M', 'N.T',\n",
       "       'T.M.C.', 'N.P', 'C.T', 'M.B', 'T.C.', 'I.N.A', 'N.P.P', 'N.A',\n",
       "       'N.A.C', 'M.C', 'M.B.', 'M.C.', 'TP', 'N.P.P.', 'T.P', 'NAC',\n",
       "       'T.P.', 'G.P', 'C.T.', 'NP', 'M&F', nan, 'CT', 'G.P.', 'N.A.C.'],\n",
       "      dtype=object)"
      ]
     },
     "execution_count": 14,
     "metadata": {},
     "output_type": "execute_result"
    }
   ],
   "source": [
    "df[\"Type\"].unique()"
   ]
  },
  {
   "cell_type": "code",
   "execution_count": 12,
   "metadata": {},
   "outputs": [
    {
     "data": {
      "text/html": [
       "<div>\n",
       "<style scoped>\n",
       "    .dataframe tbody tr th:only-of-type {\n",
       "        vertical-align: middle;\n",
       "    }\n",
       "\n",
       "    .dataframe tbody tr th {\n",
       "        vertical-align: top;\n",
       "    }\n",
       "\n",
       "    .dataframe thead th {\n",
       "        text-align: right;\n",
       "    }\n",
       "</style>\n",
       "<table border=\"1\" class=\"dataframe\">\n",
       "  <thead>\n",
       "    <tr style=\"text-align: right;\">\n",
       "      <th></th>\n",
       "      <th>City</th>\n",
       "      <th>State</th>\n",
       "      <th>Type</th>\n",
       "      <th>Population [2011]</th>\n",
       "      <th>Sex Ratio</th>\n",
       "      <th>Median Age</th>\n",
       "      <th>Avg Temp</th>\n",
       "      <th>SWM</th>\n",
       "      <th>Toilets Avl</th>\n",
       "      <th>Water Purity</th>\n",
       "      <th>H Index</th>\n",
       "      <th>Female Population</th>\n",
       "      <th># of hospitals</th>\n",
       "      <th>Foreign Visitors</th>\n",
       "    </tr>\n",
       "  </thead>\n",
       "  <tbody>\n",
       "    <tr>\n",
       "      <th>428</th>\n",
       "      <td>Srirampore</td>\n",
       "      <td>West Bengal</td>\n",
       "      <td>NaN</td>\n",
       "      <td>19500.0</td>\n",
       "      <td>953.0</td>\n",
       "      <td>24.0</td>\n",
       "      <td>37.0</td>\n",
       "      <td>HIGH</td>\n",
       "      <td>62.0</td>\n",
       "      <td>175.0</td>\n",
       "      <td>0.157481</td>\n",
       "      <td>18584.0</td>\n",
       "      <td>30.0</td>\n",
       "      <td>1489500.0</td>\n",
       "    </tr>\n",
       "    <tr>\n",
       "      <th>475</th>\n",
       "      <td>Naura</td>\n",
       "      <td>Punjab</td>\n",
       "      <td>NaN</td>\n",
       "      <td>7500.0</td>\n",
       "      <td>881.0</td>\n",
       "      <td>23.0</td>\n",
       "      <td>38.0</td>\n",
       "      <td>HIGH</td>\n",
       "      <td>NaN</td>\n",
       "      <td>NaN</td>\n",
       "      <td>NaN</td>\n",
       "      <td>NaN</td>\n",
       "      <td>NaN</td>\n",
       "      <td>NaN</td>\n",
       "    </tr>\n",
       "  </tbody>\n",
       "</table>\n",
       "</div>"
      ],
      "text/plain": [
       "           City        State Type  Population [2011]  Sex Ratio  Median Age  \\\n",
       "428  Srirampore  West Bengal  NaN            19500.0      953.0        24.0   \n",
       "475       Naura       Punjab  NaN             7500.0      881.0        23.0   \n",
       "\n",
       "     Avg Temp   SWM  Toilets Avl  Water Purity   H Index  Female Population  \\\n",
       "428      37.0  HIGH         62.0         175.0  0.157481            18584.0   \n",
       "475      38.0  HIGH          NaN           NaN       NaN                NaN   \n",
       "\n",
       "     # of hospitals  Foreign Visitors  \n",
       "428            30.0         1489500.0  \n",
       "475             NaN               NaN  "
      ]
     },
     "execution_count": 12,
     "metadata": {},
     "output_type": "execute_result"
    }
   ],
   "source": [
    "df[df[\"Type\"].isnull()]"
   ]
  },
  {
   "cell_type": "code",
   "execution_count": 88,
   "metadata": {},
   "outputs": [],
   "source": [
    "df.iat[428,2]=\"T.P\"\n",
    "df.iat[475,2]='G.P."
   ]
  },
  {
   "cell_type": "code",
   "execution_count": 89,
   "metadata": {},
   "outputs": [
    {
     "data": {
      "text/plain": [
       "City                  0\n",
       "State                 0\n",
       "Type                  0\n",
       "Population [2011]     6\n",
       "Sex Ratio             0\n",
       "Median Age           13\n",
       "Avg Temp             14\n",
       "SWM                   9\n",
       "Toilets Avl          22\n",
       "Water Purity         19\n",
       "H Index              15\n",
       "Female Population    15\n",
       "# of hospitals       17\n",
       "Foreign Visitors     17\n",
       "dtype: int64"
      ]
     },
     "execution_count": 89,
     "metadata": {},
     "output_type": "execute_result"
    }
   ],
   "source": [
    "df.isnull().sum()"
   ]
  },
  {
   "cell_type": "code",
   "execution_count": null,
   "metadata": {},
   "outputs": [],
   "source": []
  }
 ],
 "metadata": {
  "kernelspec": {
   "display_name": "Python 3",
   "language": "python",
   "name": "python3"
  },
  "language_info": {
   "codemirror_mode": {
    "name": "ipython",
    "version": 3
   },
   "file_extension": ".py",
   "mimetype": "text/x-python",
   "name": "python",
   "nbconvert_exporter": "python",
   "pygments_lexer": "ipython3",
   "version": "3.8.2"
  }
 },
 "nbformat": 4,
 "nbformat_minor": 4
}
